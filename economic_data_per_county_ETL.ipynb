{
 "cells": [
  {
   "cell_type": "code",
   "execution_count": null,
   "id": "1da9e06b",
   "metadata": {},
   "outputs": [],
   "source": []
  },
  {
   "cell_type": "markdown",
   "id": "3f1ab14e",
   "metadata": {},
   "source": [
    "# economic data per county in NC "
   ]
  },
  {
   "cell_type": "code",
   "execution_count": null,
   "id": "4b9ff409",
   "metadata": {},
   "outputs": [],
   "source": [
    "# zillow data for properties \n",
    "# rural areas from 1 to 3 hours from nearest big city \n",
    "# FRED economic data \n",
    "#"
   ]
  },
  {
   "cell_type": "markdown",
   "id": "e0dbe4d9",
   "metadata": {},
   "source": [
    "\n",
    "## ideas related to metrics and model construction\n",
    "\n",
    "economic indicators in residental real estates investing are metrics that tell us how well the market is doing relative to similar markets. \n",
    "\n",
    "\n",
    "unemployment rate: low unemployment attracts investors FRED   \n",
    "hottest markets in NC 2015-2019 FRED \n",
    "Building permits per states FRED \n",
    "    \n",
    "see if chatGPT returns counties to invest in NC \n",
    "\n",
    "\n",
    "resources: \n",
    "https://fred.stlouisfed.org/\n",
    "https://www.youtube.com/watch?v=xfzGZB4HhEE&ab_channel=freeCodeCamp.org\n",
    "https://www.youtube.com/watch?v=zUJ8u9k0FzA&list=PL4i4aZbplv9KZzkgz2U3RYObCcmXSHwOc&ab_channel=ULFinance\n",
    "https://www.youtube.com/watch?v=2bE2iyRBK1E&ab_channel=TwoSigma\n",
    "https://blog.exploratory.io/how-to-collect-us-unemployment-data-at-state-or-county-level-from-fred-ad04e48686a4\n",
    "https://builtin.com/artificial-intelligence/building-explainable-algorithms\n",
    "https://medium.com/swlh/predicting-the-housing-market-is-easier-than-you-think-45239a366dc1\n",
    "\n",
    "https://medium.com/swlh/pandas-datareader-federal-reserve-economic-data-fred-a360c5795013\n"
   ]
  }
 ],
 "metadata": {
  "kernelspec": {
   "display_name": "Python 3 (ipykernel)",
   "language": "python",
   "name": "python3"
  },
  "language_info": {
   "codemirror_mode": {
    "name": "ipython",
    "version": 3
   },
   "file_extension": ".py",
   "mimetype": "text/x-python",
   "name": "python",
   "nbconvert_exporter": "python",
   "pygments_lexer": "ipython3",
   "version": "3.10.8"
  }
 },
 "nbformat": 4,
 "nbformat_minor": 5
}
