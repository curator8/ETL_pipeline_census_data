{
 "cells": [
  {
   "cell_type": "markdown",
   "id": "3f1ab14e",
   "metadata": {},
   "source": [
    "# economic data per county in NC "
   ]
  },
  {
   "cell_type": "code",
   "execution_count": null,
   "id": "4b9ff409",
   "metadata": {},
   "outputs": [],
   "source": [
    "# zillow data for properties \n",
    "# rural areas from 1 to 3 hours from nearest big city \n",
    "# FRED economic data \n",
    "#"
   ]
  },
  {
   "cell_type": "markdown",
   "id": "e0dbe4d9",
   "metadata": {},
   "source": [
    "\n",
    "## ideas related to metrics and model construction\n",
    "\n",
    "economic indicators in residental real estates investing are metrics that tell us how well the market is doing relative to similar markets. \n",
    "\n",
    "\n",
    "unemployment rate: low unemployment attracts investors FRED   \n",
    "hottest markets in NC 2015-2019 FRED \n",
    "Building permits per states FRED \n",
    "    \n",
    "see if chatGPT returns counties to invest in NC \n",
    "\n",
    "\n",
    "resources: \n",
    "https://fred.stlouisfed.org/\n",
    "https://www.youtube.com/watch?v=xfzGZB4HhEE&ab_channel=freeCodeCamp.org\n",
    "https://www.youtube.com/watch?v=zUJ8u9k0FzA&list=PL4i4aZbplv9KZzkgz2U3RYObCcmXSHwOc&ab_channel=ULFinance\n",
    "https://www.youtube.com/watch?v=2bE2iyRBK1E&ab_channel=TwoSigma\n",
    "https://blog.exploratory.io/how-to-collect-us-unemployment-data-at-state-or-county-level-from-fred-ad04e48686a4\n",
    "https://builtin.com/artificial-intelligence/building-explainable-algorithms\n",
    "https://medium.com/swlh/predicting-the-housing-market-is-easier-than-you-think-45239a366dc1\n",
    "\n",
    "https://medium.com/swlh/pandas-datareader-federal-reserve-economic-data-fred-a360c5795013\n"
   ]
  },
  {
   "cell_type": "markdown",
   "id": "560d061f",
   "metadata": {},
   "source": [
    "# what's gentrification "
   ]
  },
  {
   "cell_type": "markdown",
   "id": "6b509ea3",
   "metadata": {},
   "source": [
    "https://www.investopedia.com/terms/g/gentrification.asp#:~:text=The%20Causes%20of%20Gentrification%201%20Rapid%20job%20growth,one%20location%20to%20the%20next.%20...%20More%20items\n",
    "\n",
    "\n",
    "Gentrification is the transformation of a city neighborhood from low value to high value. Gentrification is also viewed as a process of urban development in which a neighborhood or portion of a city develops rapidly in a short period of time, often as a result of urban-renewal programs. This process is often marked by inflated home prices and displacement of a neighborhood's previous residents.\n",
    "\n",
    "\n",
    "Numerous cities around the world experience the phenomenon of gentrification, which can have a direct impact on housing market dynamics. In most major cities, some neighborhoods that were previously less than desirable have morphed into vibrant districts with plush condominiums and offices, new coffee shops and restaurants, expensive retail storefronts, and various entertainment choices.\n",
    "\n",
    "Gentrification is a complex social issue with both benefits and drawbacks. Young families welcome the opportunity to buy reasonably priced homes in a safe community with sound infrastructure, and a wide choice of amenities and services. Local municipalities and governments also benefit from collecting higher taxes on rising property values and increased economic activity. However, the neighborhoods' original inhabitants—also families, as well as singles of various ages—are often displaced from the very community that they helped build because of rising rents and a higher cost of living.\n",
    "\n",
    "\n",
    "Gentrification has become controversial because, historically, it has come with a significant component of discrimination against racial minorities, women and children, the poor, and older adults. Even as it may bring about a reversal in the decline of a city, displacement caused by gentrification can force prior residents into poorer and relatively unsafe areas, with limited access to affordable housing, healthy food choices, and social networks. In turn, this can trigger increased stress levels and decreased mental health.\n",
    "\n",
    "According to the Centers for Disease Control and Prevention (CDC), vulnerable segments of the population are at increased risk for negative health effects of gentrification, such as shorter life expectancies and increased rates of cancer, diabetes, and cardiovascular disease. Displacement often leads to exclusion of the original residents, particularly people of color, and a lack of government support—for low-income housing assistance, for example—as well as weakened social and community ties.\n",
    "3\n",
    "\n",
    "\n",
    "some case study would be perfect to introducing this issue. Some cities that come to mind are San Diego and \n",
    "\n",
    "note to self: maybe I should group the economic blocks into major cities within eastern nc, triangle, piedmont, and western regions. \n",
    "\n",
    "interesting metrics could be building permits, housing starts, and new home sales are the most reliable for predicting housing market health in the U.S. Also we could analyze job growth\n",
    "\n",
    "question to self: should I see if we can predict housing market cost. \n",
    "https://medium.com/swlh/predicting-the-housing-market-is-easier-than-you-think-45239a366dc1\n",
    "\n",
    "the building permits, housing starts, and new home sales are very interesting metrics to compare with population growth. \n",
    "\n",
    "\n",
    "## conclusion \n",
    "\n",
    "we need the following metrics per county in NC \n",
    "* building permits, \n",
    "* housing starts, and\n",
    "* new home sales to dtermine housing dynamics (look into how it's changed over the years)\n",
    "* price of rent over the last 5 years (2015-2019)\n",
    "\n"
   ]
  },
  {
   "cell_type": "markdown",
   "id": "01dfb389",
   "metadata": {},
   "source": [
    "# building permits given per county 2015-2019\n",
    "\n",
    "resources: \n",
    "* https://fred.stlouisfed.org/searchresults?st=building%20permit&t=permits%3Bnc%3Bcounty&ob=sr&od=desc#\n",
    "* https://fred.stlouisfed.org/series/BPPRIV037021\n",
    "* https://www.youtube.com/watch?v=nfjzv0cTXH0&list=PLDuVhKHWKVcaopFLhou0XqPIAwvs1N4rx&index=2&ab_channel=AnalyticsAriel\n",
    "* https://medium.com/swlh/pandas-datareader-federal-reserve-economic-data-fred-a360c5795013"
   ]
  },
  {
   "cell_type": "code",
   "execution_count": 2,
   "id": "57600f66",
   "metadata": {},
   "outputs": [
    {
     "name": "stdout",
     "output_type": "stream",
     "text": [
      "Collecting pandas-datareader\n",
      "  Downloading pandas_datareader-0.10.0-py3-none-any.whl (109 kB)\n",
      "\u001b[2K     \u001b[90m━━━━━━━━━━━━━━━━━━━━━━━━━━━━━━━━━━━━━\u001b[0m \u001b[32m109.5/109.5 kB\u001b[0m \u001b[31m802.0 kB/s\u001b[0m eta \u001b[36m0:00:00\u001b[0ma \u001b[36m0:00:01\u001b[0m\n",
      "\u001b[?25hCollecting lxml\n",
      "  Downloading lxml-4.9.2-cp310-cp310-manylinux_2_17_x86_64.manylinux2014_x86_64.manylinux_2_24_x86_64.whl (7.1 MB)\n",
      "\u001b[2K     \u001b[90m━━━━━━━━━━━━━━━━━━━━━━━━━━━━━━━━━━━━━━━━\u001b[0m \u001b[32m7.1/7.1 MB\u001b[0m \u001b[31m1.1 MB/s\u001b[0m eta \u001b[36m0:00:00\u001b[0m00:01\u001b[0m00:01\u001b[0m0m\n",
      "\u001b[?25hCollecting pandas>=0.23\n",
      "  Downloading pandas-1.5.3-cp310-cp310-manylinux_2_17_x86_64.manylinux2014_x86_64.whl (12.1 MB)\n",
      "\u001b[2K     \u001b[90m━━━━━━━━━━━━━━━━━━━━━━━━━━━━━━━━━━━━━━━\u001b[0m \u001b[32m12.1/12.1 MB\u001b[0m \u001b[31m617.3 kB/s\u001b[0m eta \u001b[36m0:00:00\u001b[0m00:01\u001b[0m00:01\u001b[0m\n",
      "\u001b[?25hRequirement already satisfied: requests>=2.19.0 in /home/joel/.local/lib/python3.10/site-packages (from pandas-datareader) (2.28.1)\n",
      "Requirement already satisfied: numpy>=1.21.0 in /home/joel/mambaforge/lib/python3.10/site-packages (from pandas>=0.23->pandas-datareader) (1.24.2)\n",
      "Requirement already satisfied: pytz>=2020.1 in /home/joel/.local/lib/python3.10/site-packages (from pandas>=0.23->pandas-datareader) (2022.7)\n",
      "Requirement already satisfied: python-dateutil>=2.8.1 in /home/joel/.local/lib/python3.10/site-packages (from pandas>=0.23->pandas-datareader) (2.8.2)\n",
      "Requirement already satisfied: certifi>=2017.4.17 in /home/joel/.local/lib/python3.10/site-packages (from requests>=2.19.0->pandas-datareader) (2022.12.7)\n",
      "Requirement already satisfied: idna<4,>=2.5 in /home/joel/.local/lib/python3.10/site-packages (from requests>=2.19.0->pandas-datareader) (3.4)\n",
      "Requirement already satisfied: urllib3<1.27,>=1.21.1 in /home/joel/mambaforge/lib/python3.10/site-packages (from requests>=2.19.0->pandas-datareader) (1.26.13)\n",
      "Requirement already satisfied: charset-normalizer<3,>=2 in /home/joel/.local/lib/python3.10/site-packages (from requests>=2.19.0->pandas-datareader) (2.1.1)\n",
      "Requirement already satisfied: six>=1.5 in /home/joel/mambaforge/lib/python3.10/site-packages (from python-dateutil>=2.8.1->pandas>=0.23->pandas-datareader) (1.16.0)\n",
      "Installing collected packages: lxml, pandas, pandas-datareader\n",
      "Successfully installed lxml-4.9.2 pandas-1.5.3 pandas-datareader-0.10.0\n"
     ]
    }
   ],
   "source": [
    "!pip install pandas-datareader"
   ]
  },
  {
   "cell_type": "code",
   "execution_count": 6,
   "id": "ff0b079b",
   "metadata": {},
   "outputs": [],
   "source": [
    "import pandas_datareader as pdr\n",
    "import pandas as pd \n",
    "import datetime"
   ]
  },
  {
   "cell_type": "code",
   "execution_count": 7,
   "id": "547e9d67",
   "metadata": {},
   "outputs": [],
   "source": [
    "# start and end date \n",
    "start = datetime.datetime(2015, 1, 1)\n",
    "end = datetime.datetime(2019, 1, 1)\n",
    "df = pdr.DataReader('', 'fred', start, end) "
   ]
  },
  {
   "cell_type": "code",
   "execution_count": 8,
   "id": "1cc0e230",
   "metadata": {},
   "outputs": [
    {
     "name": "stdout",
     "output_type": "stream",
     "text": [
      "2015-01-01 00:00:00\n"
     ]
    }
   ],
   "source": []
  },
  {
   "cell_type": "code",
   "execution_count": null,
   "id": "a7ab5e9a",
   "metadata": {},
   "outputs": [],
   "source": []
  },
  {
   "cell_type": "code",
   "execution_count": null,
   "id": "6cd38ecf",
   "metadata": {},
   "outputs": [],
   "source": []
  },
  {
   "cell_type": "markdown",
   "id": "5fbe8e97",
   "metadata": {},
   "source": [
    "# housing starts \n"
   ]
  },
  {
   "cell_type": "code",
   "execution_count": null,
   "id": "fe76cfc2",
   "metadata": {},
   "outputs": [],
   "source": []
  }
 ],
 "metadata": {
  "kernelspec": {
   "display_name": "Python 3 (ipykernel)",
   "language": "python",
   "name": "python3"
  },
  "language_info": {
   "codemirror_mode": {
    "name": "ipython",
    "version": 3
   },
   "file_extension": ".py",
   "mimetype": "text/x-python",
   "name": "python",
   "nbconvert_exporter": "python",
   "pygments_lexer": "ipython3",
   "version": "3.10.8"
  }
 },
 "nbformat": 4,
 "nbformat_minor": 5
}
